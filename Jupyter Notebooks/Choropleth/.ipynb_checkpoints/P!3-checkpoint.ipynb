{
 "cells": [
  {
   "cell_type": "code",
   "execution_count": 2,
   "metadata": {},
   "outputs": [],
   "source": [
    "import numpy as np\n",
    "import pandas as pd\n",
    "import shapefile as shp\n",
    "import matplotlib.pyplot as plt\n",
    "import seaborn as sns"
   ]
  },
  {
   "cell_type": "code",
   "execution_count": 3,
   "metadata": {},
   "outputs": [],
   "source": [
    "sns.set(style=\"whitegrid\", palette=\"pastel\", color_codes=True)\n",
    "sns.mpl.rc(\"figure\", figsize=(10,6))"
   ]
  },
  {
   "cell_type": "code",
   "execution_count": 4,
   "metadata": {},
   "outputs": [],
   "source": [
    "%matplotlib inline"
   ]
  },
  {
   "cell_type": "code",
   "execution_count": 5,
   "metadata": {},
   "outputs": [],
   "source": [
    "shp_path = \"India-shp/3e11a5e.shp\"\n",
    "sf = shp.Reader(shp_path)"
   ]
  },
  {
   "cell_type": "code",
   "execution_count": 6,
   "metadata": {},
   "outputs": [],
   "source": [
    "def read_shapefile(sf):\n",
    "    \"\"\"\n",
    "    Read a shapefile into a Pandas dataframe with a 'coords' \n",
    "    column holding the geometry information. This uses the pyshp\n",
    "    package\n",
    "    \"\"\"\n",
    "    fields = [x[0] for x in sf.fields][1:]\n",
    "    records = sf.records()\n",
    "    shps = [s.points for s in sf.shapes()]\n",
    "    df = pd.DataFrame(columns=fields, data=records)\n",
    "    df = df.assign(coords=shps)\n",
    "    return df"
   ]
  },
  {
   "cell_type": "code",
   "execution_count": 7,
   "metadata": {},
   "outputs": [
    {
     "data": {
      "text/plain": [
       "(36, 9)"
      ]
     },
     "execution_count": 7,
     "metadata": {},
     "output_type": "execute_result"
    }
   ],
   "source": [
    "df = read_shapefile(sf)\n",
    "df.shape"
   ]
  },
  {
   "cell_type": "code",
   "execution_count": 8,
   "metadata": {},
   "outputs": [
    {
     "data": {
      "text/html": [
       "<div>\n",
       "<style scoped>\n",
       "    .dataframe tbody tr th:only-of-type {\n",
       "        vertical-align: middle;\n",
       "    }\n",
       "\n",
       "    .dataframe tbody tr th {\n",
       "        vertical-align: top;\n",
       "    }\n",
       "\n",
       "    .dataframe thead th {\n",
       "        text-align: right;\n",
       "    }\n",
       "</style>\n",
       "<table border=\"1\" class=\"dataframe\">\n",
       "  <thead>\n",
       "    <tr style=\"text-align: right;\">\n",
       "      <th></th>\n",
       "      <th>OBJECTID</th>\n",
       "      <th>TOT_P</th>\n",
       "      <th>State_UT</th>\n",
       "      <th>State_Code</th>\n",
       "      <th>State_Name</th>\n",
       "      <th>Area</th>\n",
       "      <th>Shape__Are</th>\n",
       "      <th>Shape__Len</th>\n",
       "      <th>coords</th>\n",
       "    </tr>\n",
       "  </thead>\n",
       "  <tbody>\n",
       "    <tr>\n",
       "      <td>0</td>\n",
       "      <td>1</td>\n",
       "      <td>10086292</td>\n",
       "      <td>STATE</td>\n",
       "      <td>05</td>\n",
       "      <td>Uttarakhand</td>\n",
       "      <td>53483</td>\n",
       "      <td>7.136755e+10</td>\n",
       "      <td>1.975339e+06</td>\n",
       "      <td>[(79.99732, 28.71083), (79.9868700000001, 28.7...</td>\n",
       "    </tr>\n",
       "    <tr>\n",
       "      <td>1</td>\n",
       "      <td>2</td>\n",
       "      <td>6864602</td>\n",
       "      <td>STATE</td>\n",
       "      <td>02</td>\n",
       "      <td>Himachal Pradesh</td>\n",
       "      <td>55673</td>\n",
       "      <td>7.762950e+10</td>\n",
       "      <td>1.896926e+06</td>\n",
       "      <td>[(77.5812500000001, 30.37703), (77.58121000000...</td>\n",
       "    </tr>\n",
       "    <tr>\n",
       "      <td>2</td>\n",
       "      <td>3</td>\n",
       "      <td>12541302</td>\n",
       "      <td>STATE</td>\n",
       "      <td>01</td>\n",
       "      <td>Jammu &amp; Kashmir</td>\n",
       "      <td>222236</td>\n",
       "      <td>3.302232e+11</td>\n",
       "      <td>4.043259e+06</td>\n",
       "      <td>[(75.5289100000001, 32.29276), (75.52848000000...</td>\n",
       "    </tr>\n",
       "    <tr>\n",
       "      <td>3</td>\n",
       "      <td>4</td>\n",
       "      <td>243247</td>\n",
       "      <td>UNION TERRITORY</td>\n",
       "      <td>25</td>\n",
       "      <td>Daman &amp; Diu</td>\n",
       "      <td>111</td>\n",
       "      <td>1.626153e+08</td>\n",
       "      <td>9.794282e+04</td>\n",
       "      <td>[(72.7782300000001, 20.33765), (72.77949000000...</td>\n",
       "    </tr>\n",
       "    <tr>\n",
       "      <td>4</td>\n",
       "      <td>5</td>\n",
       "      <td>60439692</td>\n",
       "      <td>STATE</td>\n",
       "      <td>24</td>\n",
       "      <td>Gujarat</td>\n",
       "      <td>196244</td>\n",
       "      <td>2.197981e+11</td>\n",
       "      <td>5.028878e+06</td>\n",
       "      <td>[(73.2218, 20.1289100000001), (73.220390000000...</td>\n",
       "    </tr>\n",
       "  </tbody>\n",
       "</table>\n",
       "</div>"
      ],
      "text/plain": [
       "   OBJECTID     TOT_P         State_UT State_Code        State_Name    Area  \\\n",
       "0         1  10086292            STATE         05       Uttarakhand   53483   \n",
       "1         2   6864602            STATE         02  Himachal Pradesh   55673   \n",
       "2         3  12541302            STATE         01   Jammu & Kashmir  222236   \n",
       "3         4    243247  UNION TERRITORY         25       Daman & Diu     111   \n",
       "4         5  60439692            STATE         24           Gujarat  196244   \n",
       "\n",
       "     Shape__Are    Shape__Len  \\\n",
       "0  7.136755e+10  1.975339e+06   \n",
       "1  7.762950e+10  1.896926e+06   \n",
       "2  3.302232e+11  4.043259e+06   \n",
       "3  1.626153e+08  9.794282e+04   \n",
       "4  2.197981e+11  5.028878e+06   \n",
       "\n",
       "                                              coords  \n",
       "0  [(79.99732, 28.71083), (79.9868700000001, 28.7...  \n",
       "1  [(77.5812500000001, 30.37703), (77.58121000000...  \n",
       "2  [(75.5289100000001, 32.29276), (75.52848000000...  \n",
       "3  [(72.7782300000001, 20.33765), (72.77949000000...  \n",
       "4  [(73.2218, 20.1289100000001), (73.220390000000...  "
      ]
     },
     "execution_count": 8,
     "metadata": {},
     "output_type": "execute_result"
    }
   ],
   "source": [
    "df.head()"
   ]
  },
  {
   "cell_type": "code",
   "execution_count": 10,
   "metadata": {},
   "outputs": [
    {
     "data": {
      "text/plain": [
       "0     [(79.99732, 28.71083), (79.9868700000001, 28.7...\n",
       "1     [(77.5812500000001, 30.37703), (77.58121000000...\n",
       "2     [(75.5289100000001, 32.29276), (75.52848000000...\n",
       "3     [(72.7782300000001, 20.33765), (72.77949000000...\n",
       "4     [(73.2218, 20.1289100000001), (73.220390000000...\n",
       "5     [(73.1788000000001, 20.05497), (73.17707000000...\n",
       "6     [(76.38284, 21.07755), (76.3814100000001, 21.0...\n",
       "7     [(78.3863000000001, 12.62472), (78.38043, 12.6...\n",
       "8     [(77.09636, 8.29054000000002), (77.08656000000...\n",
       "9     [(72.0388, 11.10547), (72.0377500000001, 11.10...\n",
       "10    [(88.4383800000001, 27.0814300000001), (88.438...\n",
       "11    [(88.5349100000001, 21.5432900000001), (88.532...\n",
       "12    [(85.90925, 21.97126), (85.90824, 21.97124), (...\n",
       "13    [(84.5007000000001, 24.2872400000001), (84.500...\n",
       "14    [(77.1752300000001, 28.4044700000001), (77.175...\n",
       "15    [(76.9184300000001, 27.6533200000001), (76.916...\n",
       "16    [(76.8105100000001, 30.6564900000001), (76.810...\n",
       "17    [(75.2497500000001, 29.5492600000001), (75.248...\n",
       "18    [(76.84753, 11.5835700000001), (76.84705000000...\n",
       "19    [(74.0259, 15.6038600000001), (74.022060000000...\n",
       "20    [(74.0918, 14.89966), (74.0917700000001, 14.89...\n",
       "21    [(92.7875000000001, 12.31294), (92.78685000000...\n",
       "22    [(79.80685, 11.83633), (79.80598, 11.83644), (...\n",
       "23    [(92.93012, 22.00607), (92.9283500000001, 22.0...\n",
       "24    [(94.14408, 23.8347000000001), (94.14414000000...\n",
       "25    [(93.5910700000001, 25.1877200000001), (93.590...\n",
       "26    [(95.4346400000001, 26.71551), (95.43423000000...\n",
       "27    [(92.5062, 24.1634700000001), (92.505100000000...\n",
       "28    [(91.6241800000001, 22.9514), (91.623600000000...\n",
       "29    [(92.4006600000001, 25.0358600000001), (92.400...\n",
       "30    [(81.5630800000001, 17.8254200000001), (81.562...\n",
       "31    [(81.08221, 17.7943500000001), (81.07826000000...\n",
       "32    [(73.9762600000001, 30.1780600000001), (73.974...\n",
       "33    [(77.5564000000001, 8.07809000000004), (77.556...\n",
       "34    [(77.59333, 30.40241), (77.59488, 30.402370000...\n",
       "35    [(78.1310100000001, 15.83995), (78.12679000000...\n",
       "Name: coords, dtype: object"
      ]
     },
     "execution_count": 10,
     "metadata": {},
     "output_type": "execute_result"
    }
   ],
   "source": [
    "df.iloc[:,-1]"
   ]
  },
  {
   "cell_type": "code",
   "execution_count": null,
   "metadata": {},
   "outputs": [],
   "source": []
  }
 ],
 "metadata": {
  "kernelspec": {
   "display_name": "Python 3",
   "language": "python",
   "name": "python3"
  },
  "language_info": {
   "codemirror_mode": {
    "name": "ipython",
    "version": 3
   },
   "file_extension": ".py",
   "mimetype": "text/x-python",
   "name": "python",
   "nbconvert_exporter": "python",
   "pygments_lexer": "ipython3",
   "version": "3.7.4"
  },
  "toc": {
   "base_numbering": 1,
   "nav_menu": {},
   "number_sections": true,
   "sideBar": true,
   "skip_h1_title": false,
   "title_cell": "Table of Contents",
   "title_sidebar": "Contents",
   "toc_cell": false,
   "toc_position": {},
   "toc_section_display": true,
   "toc_window_display": false
  }
 },
 "nbformat": 4,
 "nbformat_minor": 4
}
